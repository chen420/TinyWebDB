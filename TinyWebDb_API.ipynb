{
  "nbformat": 4,
  "nbformat_minor": 0,
  "metadata": {
    "colab": {
      "provenance": [],
      "authorship_tag": "ABX9TyPIq7rBROmNxd7y6PbnblYr",
      "include_colab_link": true
    },
    "kernelspec": {
      "name": "python3",
      "display_name": "Python 3"
    },
    "language_info": {
      "name": "python"
    }
  },
  "cells": [
    {
      "cell_type": "markdown",
      "metadata": {
        "id": "view-in-github",
        "colab_type": "text"
      },
      "source": [
        "<a href=\"https://colab.research.google.com/github/chen420/TinyWebDB/blob/main/TinyWebDb_API.ipynb\" target=\"_parent\"><img src=\"https://colab.research.google.com/assets/colab-badge.svg\" alt=\"Open In Colab\"/></a>"
      ]
    },
    {
      "cell_type": "markdown",
      "source": [
        "## UC4 TinyWebDB Portal\n",
        "このノートブックは、いくつTinyWebDBサービスを試すPythonコードを示した。  \n",
        "データの取得は仕様上Post方法だが、　PostとGet両方対応のAPIもある.\n",
        "\n",
        "1.   https://tinywebdb-node.glitch.me/ (glitch / node.js)\n",
        "2.   http://tinywebdb.edu2web.com/ (WordPress / php)\n",
        "3.   http://sensor.db.uc4.net/ (php のみ版)\n",
        "\n",
        "\n"
      ],
      "metadata": {
        "id": "uPo23hTytSHI"
      }
    },
    {
      "cell_type": "markdown",
      "source": [
        "## glitch(node.js) の TinyWebDB-node と連携\n",
        "\n",
        "glitch code : https://tinywebdb-node.glitch.me\n",
        "\n",
        "スマホなどから、TinyWebDBサービスのデータ取得に利用\n",
        "\n",
        "### Get"
      ],
      "metadata": {
        "id": "3lGqXH2UufiN"
      }
    },
    {
      "cell_type": "code",
      "source": [
        "import requests\n",
        "result = requests.get(\"https://tinywebdb-node.glitch.me/getvalue?tag=analog-60b72c\")\n",
        "data = result.json()\n",
        "data"
      ],
      "metadata": {
        "colab": {
          "base_uri": "https://localhost:8080/"
        },
        "id": "V_beNbfUwTlo",
        "outputId": "1c7d99b7-c5cc-45d8-ce03-3e1372fffd3c"
      },
      "execution_count": null,
      "outputs": [
        {
          "output_type": "execute_result",
          "data": {
            "text/plain": [
              "['VALUE', 'analog-60b72c', 'Smith']"
            ]
          },
          "metadata": {},
          "execution_count": 2
        }
      ]
    },
    {
      "cell_type": "code",
      "source": [
        "import requests\n",
        "result = requests.get(\"https://tinywebdb-node.glitch.me/tags\")\n",
        "data = result.json()\n",
        "data"
      ],
      "metadata": {
        "colab": {
          "base_uri": "https://localhost:8080/"
        },
        "id": "6ekQBRSstRmw",
        "outputId": "a977921f-1cbc-4e0c-92b9-b61532527a9b"
      },
      "execution_count": null,
      "outputs": [
        {
          "output_type": "execute_result",
          "data": {
            "text/plain": [
              "[['analog-222222', 'chen']]"
            ]
          },
          "metadata": {},
          "execution_count": 8
        }
      ]
    },
    {
      "cell_type": "markdown",
      "source": [
        "センサーから、TinyWebDBサービスへデータ送信に利用\n",
        "\n",
        "### Post"
      ],
      "metadata": {
        "id": "sCcy6v0Yuird"
      }
    },
    {
      "cell_type": "code",
      "source": [
        "import requests\n",
        "result = requests.post(\"https://tinywebdb-node.glitch.me/storeavalue\", params={\"tag\":\"analog-222222\", \"value\":\"chen\"})\n",
        "result.json()"
      ],
      "metadata": {
        "id": "5pgsuCLpulH0",
        "colab": {
          "base_uri": "https://localhost:8080/"
        },
        "outputId": "642f0016-6a32-4570-c183-d51784db418c"
      },
      "execution_count": null,
      "outputs": [
        {
          "output_type": "execute_result",
          "data": {
            "text/plain": [
              "['STORED', 'analog-222222', 'chen']"
            ]
          },
          "metadata": {},
          "execution_count": 4
        }
      ]
    },
    {
      "cell_type": "markdown",
      "source": [
        "## WordPress の TinyWebDB-api と連携\n",
        "\n",
        "TinyWebDB-APIは、Postのみ対応. Get使えない.   \n",
        "upodの構成に利用\n",
        "\n",
        "http://tinywebdb.edu2web.com/ (WordPress)"
      ],
      "metadata": {
        "id": "MUOELyS6G-_6"
      }
    },
    {
      "cell_type": "code",
      "source": [
        "import requests\n",
        "result = requests.post(\"http://tinywebdb.edu2web.com/api/getvalue/\", params={\"tag\":\"esp8266-3ad6fb\"})\n",
        "data = result.json()\n",
        "data"
      ],
      "metadata": {
        "colab": {
          "base_uri": "https://localhost:8080/"
        },
        "id": "e2xE31gDH1jE",
        "outputId": "235415b8-9c22-47a9-a560-ce91e5268926"
      },
      "execution_count": null,
      "outputs": [
        {
          "output_type": "execute_result",
          "data": {
            "text/plain": [
              "['VALUE',\n",
              " 'esp8266-3ad6fb',\n",
              " '{\"sensor\":\"bmp280\",\"temperature\":\"26.12\",\"pressure_hpa\":\"101670.30\"}']"
            ]
          },
          "metadata": {},
          "execution_count": 1
        }
      ]
    },
    {
      "cell_type": "code",
      "source": [
        "import requests\n",
        "result = requests.post(\"http://tinywebdb.edu2web.com/api/storeavalue/\", params={\"tag\":\"analog-222222\", \"value\":\"chen\"})\n",
        "result.json()"
      ],
      "metadata": {
        "colab": {
          "base_uri": "https://localhost:8080/"
        },
        "id": "6AwgvSZsFjS6",
        "outputId": "f6e2bf57-cfcc-4ba1-87c6-d276ae01e1f5"
      },
      "execution_count": null,
      "outputs": [
        {
          "output_type": "execute_result",
          "data": {
            "text/plain": [
              "['STORED', 'analog-222222', 'chen']"
            ]
          },
          "metadata": {},
          "execution_count": 3
        }
      ]
    },
    {
      "cell_type": "markdown",
      "source": [
        "Get mothod 使えないため、TinyWebDBサービス　rootの情報が表示"
      ],
      "metadata": {
        "id": "CR-4xejtM0vZ"
      }
    },
    {
      "cell_type": "code",
      "source": [
        "import requests\n",
        "result = requests.get(\"http://tinywebdb.edu2web.com/api/getvalue?tag=esp8266-3ad6fb\")\n",
        "data = result.json()\n",
        "data"
      ],
      "metadata": {
        "colab": {
          "base_uri": "https://localhost:8080/"
        },
        "id": "SjGgWf75HnOL",
        "outputId": "306875fe-4b6d-4649-93bd-5b04e9392053"
      },
      "execution_count": null,
      "outputs": [
        {
          "output_type": "execute_result",
          "data": {
            "text/plain": [
              "{'controllers': ['getvalue', 'storeavalue'],\n",
              " 'status': 'ok',\n",
              " 'tinywebdb_api_version': '0.2.11'}"
            ]
          },
          "metadata": {},
          "execution_count": 1
        }
      ]
    },
    {
      "cell_type": "markdown",
      "source": [
        "## TinyWebDB-php と Sensor data 連携\n",
        "\n",
        "TinyWebDB-phpは、PostとGet両方対応.  \n",
        "気象情報(気温、気圧、土壌湿度)はESP8266から送信され\n",
        "\n",
        "スマホなどから、TinyWebDBサービスのデータ取得に利用"
      ],
      "metadata": {
        "id": "ufFXxAzZs9O3"
      }
    },
    {
      "cell_type": "code",
      "source": [
        "import requests\n",
        "data = {\"tag\":\"analog-222222\", \"value\":'{\"Ver\":\"1.1.0\",\"sensor\":\"bmp280\",\"localIP\":\"192.168.0.215\",\"temperature\":\"24.09\",\"pressure_hpa\":\"1016.16\",\"battery_Vcc\":\"1008\",\"localTime\":\"1651678083\"}'}\n",
        "result = requests.post(\"http://tinydb.edu2web.com/storeavalue\", data=data)\n",
        "result.text"
      ],
      "metadata": {
        "colab": {
          "base_uri": "https://localhost:8080/",
          "height": 53
        },
        "outputId": "d4775883-6189-4810-b1d2-3ab2a210f1a3",
        "id": "X71YrrAQJUvo"
      },
      "execution_count": null,
      "outputs": [
        {
          "output_type": "execute_result",
          "data": {
            "text/plain": [
              "'[\"STORED\",\"analog-222222\",\"{\\\\\"Ver\\\\\":\\\\\"1.1.0\\\\\",\\\\\"sensor\\\\\":\\\\\"bmp280\\\\\",\\\\\"localIP\\\\\":\\\\\"192.168.0.215\\\\\",\\\\\"temperature\\\\\":\\\\\"24.09\\\\\",\\\\\"pressure_hpa\\\\\":\\\\\"1016.16\\\\\",\\\\\"battery_Vcc\\\\\":\\\\\"1008\\\\\",\\\\\"localTime\\\\\":\\\\\"1651678083\\\\\"}\"]'"
            ],
            "application/vnd.google.colaboratory.intrinsic+json": {
              "type": "string"
            }
          },
          "metadata": {},
          "execution_count": 1
        }
      ]
    },
    {
      "cell_type": "code",
      "source": [
        "import requests\n",
        "result = requests.get(\"http://tinydb.edu2web.com/getvalue?tag=analog-222222\")\n",
        "data = result.json()\n",
        "data"
      ],
      "metadata": {
        "colab": {
          "base_uri": "https://localhost:8080/"
        },
        "id": "rJHz2Rjz77lB",
        "outputId": "ff3ec603-32b5-430b-fa1b-3b605eb478df"
      },
      "execution_count": null,
      "outputs": [
        {
          "output_type": "execute_result",
          "data": {
            "text/plain": [
              "['VALUE',\n",
              " 'analog-222222',\n",
              " '{\"Ver\":\"1.1.0\",\"sensor\":\"bmp280\",\"localIP\":\"192.168.0.215\",\"temperature\":\"24.09\",\"pressure_hpa\":\"1016.16\",\"battery_Vcc\":\"1008\",\"localTime\":\"1651678083\"}']"
            ]
          },
          "metadata": {},
          "execution_count": 2
        }
      ]
    },
    {
      "cell_type": "code",
      "source": [
        "import requests\n",
        "result = requests.post(\"http://tiny.db.uc4.net/getvalue\", params={\"tag\":\"17TExxxAnswer\"})\n",
        "data = result.json()\n",
        "data"
      ],
      "metadata": {
        "colab": {
          "base_uri": "https://localhost:8080/"
        },
        "id": "ClIZa6yaHBW4",
        "outputId": "a3650bb4-290b-4cc0-f406-6ff97900bf72"
      },
      "execution_count": null,
      "outputs": [
        {
          "output_type": "execute_result",
          "data": {
            "text/plain": [
              "['VALUE', '17TExxxAnswer', '[\"aaa\",\"A2\"]']"
            ]
          },
          "metadata": {},
          "execution_count": 2
        }
      ]
    },
    {
      "cell_type": "code",
      "execution_count": null,
      "metadata": {
        "colab": {
          "base_uri": "https://localhost:8080/"
        },
        "id": "UCqUS8HY_9pe",
        "outputId": "5b783ea9-e5b6-4bc4-a5a8-69c760cc337c"
      },
      "outputs": [
        {
          "output_type": "execute_result",
          "data": {
            "text/plain": [
              "['VALUE',\n",
              " 'Moisture-ac216a',\n",
              " '{\"Ver\":\"1.1.0\",\"sensor\":\"bmp280\",\"localIP\":\"192.168.0.215\",\"temperature\":\"24.09\",\"pressure_hpa\":\"1016.16\",\"battery_Vcc\":\"1008\",\"localTime\":\"1651678083\"}']"
            ]
          },
          "metadata": {},
          "execution_count": 2
        }
      ],
      "source": [
        "import requests\n",
        "result = requests.get(\"http://sensor.db.uc4.net/getvalue?tag=Moisture-ac216a\")\n",
        "data = result.json()\n",
        "data"
      ]
    },
    {
      "cell_type": "code",
      "source": [
        "import json\n",
        "tinydb = json.loads(data[2])\n",
        "for k,v in tinydb.items():\n",
        "  print (k, v)"
      ],
      "metadata": {
        "colab": {
          "base_uri": "https://localhost:8080/"
        },
        "id": "m52J1v_zElvn",
        "outputId": "fe82f0f9-40e1-4384-e0a2-fde55f4b93e6"
      },
      "execution_count": null,
      "outputs": [
        {
          "output_type": "stream",
          "name": "stdout",
          "text": [
            "Ver 1.1.0\n",
            "sensor bmp280\n",
            "localIP 192.168.0.215\n",
            "temperature 24.09\n",
            "pressure_hpa 1016.16\n",
            "battery_Vcc 1008\n",
            "localTime 1651678083\n"
          ]
        }
      ]
    }
  ]
}